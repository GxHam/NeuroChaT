{
 "cells": [
  {
   "cell_type": "code",
   "execution_count": 1,
   "metadata": {},
   "outputs": [],
   "source": [
    "import os\n",
    "import sys\n",
    "import matplotlib\n",
    "import matplotlib.pyplot as plt\n",
    "import matplotlib.gridspec as gridspec\n",
    "%matplotlib inline\n",
    "sys.path.insert(1, r'C:\\Users\\smartin5\\Repos\\myNeurochat')\n",
    "#sys.path.insert(1, r'C:\\Users\\maolivei\\neuro_sean\\NeuroChaT')\n",
    "%load_ext autoreload\n",
    "%autoreload 2"
   ]
  },
  {
   "cell_type": "code",
   "execution_count": 2,
   "metadata": {},
   "outputs": [],
   "source": [
    "from neurochat.nc_spike import NSpike\n",
    "from neurochat.nc_spatial import NSpatial\n",
    "from neurochat.nc_data import NData\n",
    "from neurochat.nc_datacontainer import NDataContainer\n",
    "import neurochat.nc_plot as nc_plot\n",
    "import neurochat.nc_containeranalysis as nca\n",
    "from neurochat.nc_clust import NClust\n",
    "from neurochat.nc_utils import butter_filter\n",
    "from neurochat.nc_utils import find_peaks\n",
    "\n",
    "import numpy as np"
   ]
  },
  {
   "cell_type": "code",
   "execution_count": 3,
   "metadata": {},
   "outputs": [],
   "source": [
    "# Setup the main data path\n",
    "home = os.path.expanduser(\"~\")\n",
    "data_dir = os.path.join(\n",
    "    home, \"Recordings\", \"LCA1\")\n",
    "prepend_data_dir = lambda name : os.path.join(data_dir, name)"
   ]
  },
  {
   "cell_type": "code",
   "execution_count": 4,
   "metadata": {},
   "outputs": [
    {
     "name": "stdout",
     "output_type": "stream",
     "text": [
      "['C:\\\\Users\\\\smartin5\\\\Recordings\\\\LCA1\\\\060319D_LCA1_linear_15min.egf', 'C:\\\\Users\\\\smartin5\\\\Recordings\\\\LCA1\\\\060319E_LCA1_linear_sleep_32min.egf']\n"
     ]
    }
   ],
   "source": [
    "# Load the data\n",
    "\"\"\"\n",
    "spike_filenames = [\n",
    "    \"LCA1-linearpresleep30min050319.2\",\n",
    "    \"050319D_LCA1_linear_10min.2\",\n",
    "    \"LCA1-linearpresleep_40min050319_B.2\"]\n",
    "\"\"\"\n",
    "\n",
    "spike_filenames = [\n",
    "#    \"LCA1-linearpresleep30min060319.2\",\n",
    "    \"060319D_LCA1_linear_15min.2\",\n",
    "    \"060319E_LCA1_linear_sleep_32min.2\"]\n",
    "\n",
    "spike_absolute_filenames = [prepend_data_dir(name) for name in spike_filenames]\n",
    "\n",
    "spike_names = [\n",
    "#    \"pre-sleep\",\n",
    "    \"run\",\n",
    "    \"post-sleep\"]\n",
    "\n",
    "position_absolute_filenames = [f[:-2] + \".txt\" for f in spike_absolute_filenames]\n",
    "\n",
    "lfp_end = \".egf\"\n",
    "\n",
    "lfp_absolute_filenames = [f.split(\".\")[0] + lfp_end for f in spike_absolute_filenames]\n",
    "print(lfp_absolute_filenames)\n",
    "\n",
    "collection = NDataContainer(share_positions=False, load_on_fly=True)\n",
    "collection.add_files(\n",
    "    NDataContainer.EFileType.Spike, (spike_absolute_filenames, spike_names, None))\n",
    "collection.add_files(\n",
    "    NDataContainer.EFileType.LFP, lfp_absolute_filenames\n",
    ")\n",
    "collection.add_files(\n",
    "    NDataContainer.EFileType.Position, position_absolute_filenames)\n",
    "\n",
    "collection.setup()"
   ]
  },
  {
   "cell_type": "code",
   "execution_count": 5,
   "metadata": {},
   "outputs": [],
   "source": [
    "# Setup the appropriate units\n",
    "#collection.list_all_units()\n",
    "# collection.set_units([\"all\", \"all\"])\n",
    "run_units = [3, 2, 4] # top, middle, bottom is 2, 3, 4\n",
    "sleep_units = [2, 3, 4, 6, 7, 8] # Units from powerpoint file\n",
    "collection.set_units([run_units, sleep_units])"
   ]
  },
  {
   "cell_type": "code",
   "execution_count": 12,
   "metadata": {},
   "outputs": [
    {
     "name": "stdout",
     "output_type": "stream",
     "text": [
      "Best assignment is {2: (4, 0.9669052702547892), 3: (8, 0.9903904138800321), 4: (7, 0.9516436207398975)}\n"
     ]
    }
   ],
   "source": [
    "results = nca.replay(\n",
    "    collection, 0, 1, match_clusters=True, mua_bin_length=1, \n",
    "    filter_length=0.01, mua_mode=\"raw\", filter_mua=False, mua_length=1)"
   ]
  },
  {
   "cell_type": "code",
   "execution_count": 13,
   "metadata": {},
   "outputs": [
    {
     "name": "stderr",
     "output_type": "stream",
     "text": [
      "c:\\users\\smartin5\\appdata\\local\\programs\\python\\python37\\lib\\site-packages\\matplotlib\\figure.py:2366: UserWarning: This figure includes Axes that are not compatible with tight_layout, so results might be incorrect.\n",
      "  warnings.warn(\"This figure includes Axes that are not compatible \"\n"
     ]
    },
    {
     "data": {
      "image/png": "[encoded data removed]",
      "text/plain": [
       "<Figure size 144x144 with 1 Axes>"
      ]
     },
     "metadata": {
      "needs_background": "light"
     },
     "output_type": "display_data"
    }
   ],
   "source": [
    "sleep_times = [\n",
    "    nca.spike_times(collection.subsample(1), ranges=[i_range]) for \n",
    "    i_range in results[\"overlap swr mua\"]\n",
    "    ]\n",
    "fig = nc_plot.plot_replay_sections(results, sleep_times)"
   ]
  },
  {
   "cell_type": "code",
   "execution_count": 14,
   "metadata": {},
   "outputs": [
    {
     "name": "stdout",
     "output_type": "stream",
     "text": [
      "[[[1308.8468958333333, 1308.8508541666667], [1308.1747916666666], [1308.4406875, 1308.4485833333333]]]\n"
     ]
    }
   ],
   "source": [
    "print(sleep_times)"
   ]
  },
  {
   "cell_type": "code",
   "execution_count": 15,
   "metadata": {},
   "outputs": [
    {
     "name": "stdout",
     "output_type": "stream",
     "text": [
      "[(1308.062512820513, 1309.062512820513)]\n"
     ]
    }
   ],
   "source": [
    "print(results[\"overlap swr mua\"])"
   ]
  },
  {
   "cell_type": "code",
   "execution_count": null,
   "metadata": {},
   "outputs": [],
   "source": [
    "fig = nc_plot.replay_summary(results)\n",
    "plt.savefig(\"Nice_out.png\")"
   ]
  },
  {
   "cell_type": "markdown",
   "metadata": {},
   "source": [
    "# Below this point is extra stuff - not needed"
   ]
  },
  {
   "cell_type": "code",
   "execution_count": null,
   "metadata": {},
   "outputs": [],
   "source": [
    "print(results.keys())"
   ]
  },
  {
   "cell_type": "code",
   "execution_count": null,
   "metadata": {},
   "outputs": [],
   "source": [
    "# Spectrum plot\n",
    "graph_data = collection.get_data(1).lfp.spectrum(\n",
    "    window = 0.4, noverlap = 0.04, nfft = 2048, ptype = 'psd', \n",
    "    prefilt = True, filtset = [10, 100, 'highpass'], \n",
    "    fmax = 2400, db = False, tr = False, slice=slice(0, 9600, 1))\n",
    "fig = nc_plot.lfp_spectrum(graph_data)"
   ]
  },
  {
   "cell_type": "code",
   "execution_count": null,
   "metadata": {},
   "outputs": [],
   "source": [
    "# Example that is not needed\n",
    "mua_res = nca.multi_unit_activity(collection.subsample(1), time_range=(1000, 1800), strip=True,\n",
    "                             mua_bin_length=0.001, filter_length=0.010, filter_mua=True,\n",
    "                             mua_percentile=0.99)"
   ]
  },
  {
   "cell_type": "code",
   "execution_count": null,
   "metadata": {},
   "outputs": [],
   "source": [
    "# Displaying the filtered data\n",
    "fs = collection.get_data(1).lfp.get_sampling_rate()\n",
    "sample_start = int((924.4 * 4800))\n",
    "sample_end = sample_start + 1200\n",
    "lfp_samples = collection.get_data(1).get_samples()[sample_start:sample_end]\n",
    "time = collection.get_data(1).lfp.get_timestamp()\n",
    "filtered_lfp = butter_filter(lfp_samples, fs, 10, 100, 240, 'bandpass') # SWR\n",
    "rms_data = window_rms(filtered_lfp, 33, \"same\")\n",
    "ax, fig = nc_plot._make_ax_if_none(None)\n",
    "ax.plot(time[sample_start:sample_end], filtered_lfp, color='r')\n",
    "ax.plot(time[sample_start:sample_end], lfp_samples, color='b')\n",
    "ax.plot(time[sample_start:sample_end], rms_data, color='g')"
   ]
  }
 ],
 "metadata": {
  "kernelspec": {
   "display_name": "Python 3",
   "language": "python",
   "name": "python3"
  },
  "language_info": {
   "codemirror_mode": {
    "name": "ipython",
    "version": 3
   },
   "file_extension": ".py",
   "mimetype": "text/x-python",
   "name": "python",
   "nbconvert_exporter": "python",
   "pygments_lexer": "ipython3",
   "version": "3.7.2"
  }
 },
 "nbformat": 4,
 "nbformat_minor": 2
}
