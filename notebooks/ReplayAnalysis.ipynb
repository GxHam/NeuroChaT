{
 "cells": [
  {
   "cell_type": "code",
   "execution_count": null,
   "metadata": {},
   "outputs": [],
   "source": [
    "import os\n",
    "import sys\n",
    "import matplotlib\n",
    "import matplotlib.pyplot as plt\n",
    "import matplotlib.gridspec as gridspec\n",
    "%matplotlib inline\n",
    "sys.path.insert(1, r'C:\\Users\\smartin5\\Repos\\myNeurochat')\n",
    "#sys.path.insert(1, r'C:\\Users\\maolivei\\neuro_sean\\NeuroChaT')\n",
    "%load_ext autoreload\n",
    "%autoreload 2"
   ]
  },
  {
   "cell_type": "code",
   "execution_count": null,
   "metadata": {},
   "outputs": [],
   "source": [
    "from neurochat.nc_spike import NSpike\n",
    "from neurochat.nc_spatial import NSpatial\n",
    "from neurochat.nc_data import NData\n",
    "from neurochat.nc_datacontainer import NDataContainer\n",
    "import neurochat.nc_plot as nc_plot"
   ]
  },
  {
   "cell_type": "code",
   "execution_count": null,
   "metadata": {},
   "outputs": [],
   "source": [
    "# Setup the main data path\n",
    "home = os.path.expanduser(\"~\")\n",
    "data_dir = os.path.join(\n",
    "    home, \"Recordings\", \"LinearTrack\")\n",
    "prepend_data_dir = lambda name : os.path.join(data_dir, name)"
   ]
  },
  {
   "cell_type": "code",
   "execution_count": null,
   "metadata": {},
   "outputs": [],
   "source": [
    "# Load the data\n",
    "spike_filenames = [\n",
    "    \"LCA1-linearpresleep30min050319.2\",\n",
    "    \"050319D_LCA1_linear_10min.2\",\n",
    "    \"LCA1-linearpresleep_40min050319_B.2\"]\n",
    "\n",
    "spike_absolute_filenames = [prepend_data_dir(name) for name in spike_filenames]\n",
    "\n",
    "spike_names = [\n",
    "    \"pre-sleep\",\n",
    "    \"run\",\n",
    "    \"post-sleep\"]\n",
    "\n",
    "position_absolute_filenames = [f[:-2] + \".txt\" for f in spike_absolute_filenames]\n",
    "\n",
    "lfp_filenames = [\n",
    "    \"LCA1-linearpresleep30min050319.egf\",\n",
    "    \"050319D_LCA1_linear_10min.egf\",\n",
    "    \"LCA1-linearpresleep_40min050319_B.egf\"\n",
    "]\n",
    "\n",
    "lfp_absolute_filenames = [prepend_data_dir(name) for name in lfp_filenames]\n",
    "\n",
    "collection = NDataContainer(share_positions=False, load_on_fly=True)\n",
    "collection.add_files(\n",
    "    NDataContainer.EFileType.Spike, spike_absolute_filenames)\n",
    "collection.add_files(\n",
    "    NDataContainer.EFileType.LFP, lfp_absolute_filenames\n",
    ")\n",
    "collection.add_files(\n",
    "    NDataContainer.EFileType.Position, position_absolute_filenames)\n",
    "\n",
    "collection.setup()"
   ]
  },
  {
   "cell_type": "code",
   "execution_count": null,
   "metadata": {},
   "outputs": [],
   "source": [
    "collection.list_all_units()"
   ]
  },
  {
   "cell_type": "code",
   "execution_count": null,
   "metadata": {},
   "outputs": [],
   "source": [
    "# Setup the appropriate units\n",
    "collection.set_units([1, \"all\", 1])"
   ]
  },
  {
   "cell_type": "code",
   "execution_count": null,
   "metadata": {},
   "outputs": [],
   "source": [
    "# Tests\n",
    "# for data in collection:\n",
    "    # print(len(data.spike.get_unit_stamp()) / data.get_recording_time())\n",
    "    # nc_plot.spike_phase(data.phase_dist())\n",
    "    # fig = nc_plot.loc_firing_and_place(data.place())\n",
    "\n",
    "sub = collection.subsample(1)\n",
    "fig = nc_plot.spike_time_raster(collection.subsample(slice(0, 3, 2)))\n",
    "fig = nc_plot.spike_position_raster(sub)"
   ]
  }
 ],
 "metadata": {
  "kernelspec": {
   "display_name": "Python 3",
   "language": "python",
   "name": "python3"
  },
  "language_info": {
   "codemirror_mode": {
    "name": "ipython",
    "version": 3
   },
   "file_extension": ".py",
   "mimetype": "text/x-python",
   "name": "python",
   "nbconvert_exporter": "python",
   "pygments_lexer": "ipython3",
   "version": "3.7.2"
  }
 },
 "nbformat": 4,
 "nbformat_minor": 2
}
