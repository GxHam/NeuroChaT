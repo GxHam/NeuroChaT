{
 "cells": [
  {
   "cell_type": "code",
   "execution_count": 1,
   "metadata": {},
   "outputs": [],
   "source": [
    "import os\n",
    "import sys\n",
    "import matplotlib\n",
    "import matplotlib.pyplot as plt\n",
    "import matplotlib.gridspec as gridspec\n",
    "%matplotlib inline\n",
    "sys.path.insert(1, r'C:\\Users\\smartin5\\Repos\\myNeurochat')\n",
    "#sys.path.insert(1, r'C:\\Users\\maolivei\\neuro_sean\\NeuroChaT')\n",
    "%load_ext autoreload\n",
    "%autoreload 2"
   ]
  },
  {
   "cell_type": "code",
   "execution_count": 2,
   "metadata": {},
   "outputs": [],
   "source": [
    "from neurochat.nc_spike import NSpike\n",
    "from neurochat.nc_spatial import NSpatial\n",
    "from neurochat.nc_data import NData\n",
    "from neurochat.nc_datacontainer import NDataContainer\n",
    "import neurochat.nc_plot as nc_plot\n",
    "import neurochat.nc_containeranalysis as nca\n",
    "from neurochat.nc_clust import NClust\n",
    "from neurochat.nc_utils import butter_filter\n",
    "from neurochat.nc_utils import find_peaks\n",
    "\n",
    "import numpy as np"
   ]
  },
  {
   "cell_type": "code",
   "execution_count": 3,
   "metadata": {},
   "outputs": [],
   "source": [
    "# Setup the main data path\n",
    "home = os.path.expanduser(\"~\")\n",
    "data_dir = os.path.join(\n",
    "    home, \"Recordings\", \"LCA1\")\n",
    "prepend_data_dir = lambda name : os.path.join(data_dir, name)"
   ]
  },
  {
   "cell_type": "code",
   "execution_count": 4,
   "metadata": {},
   "outputs": [
    {
     "name": "stdout",
     "output_type": "stream",
     "text": [
      "['C:\\\\Users\\\\smartin5\\\\Recordings\\\\LCA1\\\\060319D_LCA1_linear_15min.egf', 'C:\\\\Users\\\\smartin5\\\\Recordings\\\\LCA1\\\\060319E_LCA1_linear_sleep_32min.egf']\n"
     ]
    }
   ],
   "source": [
    "# Load the data\n",
    "\"\"\"\n",
    "spike_filenames = [\n",
    "    \"LCA1-linearpresleep30min050319.2\",\n",
    "    \"050319D_LCA1_linear_10min.2\",\n",
    "    \"LCA1-linearpresleep_40min050319_B.2\"]\n",
    "\"\"\"\n",
    "\n",
    "spike_filenames = [\n",
    "#    \"LCA1-linearpresleep30min060319.2\",\n",
    "    \"060319D_LCA1_linear_15min.2\",\n",
    "    \"060319E_LCA1_linear_sleep_32min.2\"]\n",
    "\n",
    "spike_absolute_filenames = [prepend_data_dir(name) for name in spike_filenames]\n",
    "\n",
    "spike_names = [\n",
    "#    \"pre-sleep\",\n",
    "    \"run\",\n",
    "    \"post-sleep\"]\n",
    "\n",
    "position_absolute_filenames = [f[:-2] + \".txt\" for f in spike_absolute_filenames]\n",
    "\n",
    "lfp_end = \".egf\"\n",
    "\n",
    "lfp_absolute_filenames = [f.split(\".\")[0] + lfp_end for f in spike_absolute_filenames]\n",
    "print(lfp_absolute_filenames)\n",
    "\n",
    "collection = NDataContainer(share_positions=False, load_on_fly=True)\n",
    "collection.add_files(\n",
    "    NDataContainer.EFileType.Spike, (spike_absolute_filenames, spike_names, None))\n",
    "collection.add_files(\n",
    "    NDataContainer.EFileType.LFP, lfp_absolute_filenames\n",
    ")\n",
    "collection.add_files(\n",
    "    NDataContainer.EFileType.Position, position_absolute_filenames)\n",
    "\n",
    "collection.setup()"
   ]
  },
  {
   "cell_type": "code",
   "execution_count": 5,
   "metadata": {},
   "outputs": [],
   "source": [
    "# Setup the appropriate units\n",
    "#collection.list_all_units()\n",
    "# collection.set_units([\"all\", \"all\"])\n",
    "run_units = [3, 2, 4] # top, middle, bottom is 2, 3, 4\n",
    "sleep_units = [2, 3, 4, 6, 7, 8] # Units from powerpoint file\n",
    "collection.set_units([run_units, sleep_units])"
   ]
  },
  {
   "cell_type": "code",
   "execution_count": null,
   "metadata": {},
   "outputs": [],
   "source": [
    "# Spectrum plot\n",
    "graph_data = collection.get_data(1).lfp.spectrum(\n",
    "    window = 0.4, noverlap = 0.04, nfft = 2048, ptype = 'psd', \n",
    "    prefilt = True, filtset = [10, 100, 'highpass'], \n",
    "    fmax = 2400, db = False, tr = False, slice=slice(0, 9600, 1))\n",
    "fig = nc_plot.lfp_spectrum(graph_data)"
   ]
  },
  {
   "cell_type": "code",
   "execution_count": null,
   "metadata": {},
   "outputs": [],
   "source": [
    "# Displaying the filtered data\n",
    "fs = collection.get_data(1).lfp.get_sampling_rate()\n",
    "sample_start = int((924.4 * 4800))\n",
    "sample_end = sample_start + 1200\n",
    "lfp_samples = collection.get_data(1).get_samples()[sample_start:sample_end]\n",
    "time = collection.get_data(1).lfp.get_timestamp()\n",
    "filtered_lfp = butter_filter(lfp_samples, fs, 10, 100, 240, 'bandpass') # SWR\n",
    "rms_data = window_rms(filtered_lfp, 33, \"same\")\n",
    "ax, fig = nc_plot._make_ax_if_none(None)\n",
    "ax.plot(time[sample_start:sample_end], filtered_lfp, color='r')\n",
    "ax.plot(time[sample_start:sample_end], lfp_samples, color='b')\n",
    "ax.plot(time[sample_start:sample_end], rms_data, color='g')"
   ]
  },
  {
   "cell_type": "code",
   "execution_count": null,
   "metadata": {},
   "outputs": [
    {
     "name": "stdout",
     "output_type": "stream",
     "text": [
      "Best assignment is {2: (4, 0.9669052702547893), 3: (8, 0.9903904138800321), 4: (7, 0.9516436207398975)}\n"
     ]
    }
   ],
   "source": [
    "results = nca.replay(collection, 0, 1)\n",
    "fig = nc_plot.replay_summary(results)\n",
    "plt.savefig(\"Nice_out.png\")"
   ]
  },
  {
   "cell_type": "code",
   "execution_count": null,
   "metadata": {},
   "outputs": [],
   "source": [
    "print(results.keys())"
   ]
  },
  {
   "cell_type": "code",
   "execution_count": null,
   "metadata": {},
   "outputs": [],
   "source": [
    "swr_amt = len(results[\"swr times\"])\n",
    "lfp_amt = len(results[\"lfp samples\"])\n",
    "print(100 * swr_amt / lfp_amt)"
   ]
  },
  {
   "cell_type": "code",
   "execution_count": null,
   "metadata": {},
   "outputs": [],
   "source": [
    "import math\n",
    "\n",
    "def round_up(n, decimals=0):\n",
    "    multiplier = 10 ** decimals\n",
    "    return math.ceil(n * multiplier) / multiplier\n",
    "\n",
    "def truncate(n, decimals=0):\n",
    "    multiplier = 10 ** decimals\n",
    "    return int(n * multiplier) / multiplier"
   ]
  },
  {
   "cell_type": "code",
   "execution_count": null,
   "metadata": {},
   "outputs": [],
   "source": [
    "# Look at areas of interest\n",
    "from neurochat.nc_utils import get_axona_colours\n",
    "unit_hist = results['mua histogram']\n",
    "peaks2 = results['swr times']\n",
    "sleep_samp = collection.subsample(1)\n",
    "mua_indices = np.argwhere(unit_hist[0] == 3)\n",
    "interest_ranges = []\n",
    "for mua in [unit_hist[1][j] for j in mua_indices.flatten()]:\n",
    "    # Is the centre lying in a SWR\n",
    "    if any(\n",
    "        mua - 0.5 <= peak - 0.4 <= mua + 0.5 or\n",
    "        mua - 0.5 <= peak + 0.4 <= mua + 0.5\n",
    "        for peak in peaks2\n",
    "    ):\n",
    "        interest_ranges.append((mua - 0.5, mua + 0.5)) # 1sec bins\n",
    "\n",
    "        \n",
    "# Plot the interest ranges\n",
    "print(interest_ranges)\n",
    "for i_range in interest_ranges:\n",
    "    fig, ax = plt.subplots(nrows=1, ncols=1, figsize=(4,7))\n",
    "    nc_plot.spike_raster(\n",
    "        nca.spike_times(sleep_samp, ranges=[i_range]),\n",
    "        linewidths=1, ax=ax, colors=get_axona_colours()[:results[\"num cells\"]],\n",
    "        #xlim=(round(i_range[0], 1), round(i_range[1], 1)),\n",
    "        orientation=\"vertical\")\n",
    "    plt.tight_layout()\n",
    "    plt.savefig(str(i_range) + \".png\")"
   ]
  }
 ],
 "metadata": {
  "kernelspec": {
   "display_name": "Python 3",
   "language": "python",
   "name": "python3"
  },
  "language_info": {
   "codemirror_mode": {
    "name": "ipython",
    "version": 3
   },
   "file_extension": ".py",
   "mimetype": "text/x-python",
   "name": "python",
   "nbconvert_exporter": "python",
   "pygments_lexer": "ipython3",
   "version": "3.7.2"
  }
 },
 "nbformat": 4,
 "nbformat_minor": 2
}
