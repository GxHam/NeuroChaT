{
 "cells": [
  {
   "cell_type": "code",
   "execution_count": null,
   "metadata": {},
   "outputs": [],
   "source": [
    "import os\n",
    "import sys\n",
    "%matplotlib inline\n",
    "sys.path.insert(1, r'C:\\Users\\smartin5\\Repos\\myNeurochat')\n",
    "%load_ext autoreload\n",
    "%autoreload 2"
   ]
  },
  {
   "cell_type": "code",
   "execution_count": null,
   "metadata": {},
   "outputs": [],
   "source": [
    "from neurochat.nc_data import NData\n",
    "from neurochat.nc_spike import NSpike\n",
    "from neurochat.nc_spatial import NSpatial\n",
    "import neurochat.nc_plot as nc_plot"
   ]
  },
  {
   "cell_type": "code",
   "execution_count": null,
   "metadata": {},
   "outputs": [],
   "source": [
    "spike = NSpike(system=\"Axona\")\n",
    "spike.set_name(\"CO\")\n",
    "spat = NSpatial(system=\"Axona\")\n",
    "spat.set_name(\"S0\")\n",
    "\n",
    "data_dir = \"C:/Users/smartin5/recording_example\"\n",
    "spike_name = \"010416b-LS3-50Hz10V5ms.2\"\n",
    "pos_name = \"010416b-LS3-50Hz10V5ms_2.txt\"\n",
    "spike.set_filename(os.path.join(data_dir, spike_name))\n",
    "spat.set_filename(os.path.join(data_dir, pos_name))"
   ]
  },
  {
   "cell_type": "code",
   "execution_count": null,
   "metadata": {},
   "outputs": [],
   "source": [
    "spike.load()\n",
    "spat.load()\n",
    "spike.set_unit_no(5)\n",
    "\n",
    "ndata = NData()\n",
    "ndata.spike = spike\n",
    "ndata.spatial = spat"
   ]
  },
  {
   "cell_type": "code",
   "execution_count": null,
   "metadata": {
    "scrolled": true
   },
   "outputs": [],
   "source": [
    "# Calculate place related statistics\n",
    "pixel_size = 3\n",
    "placeData = ndata.place(pixel=pixel_size, filter=[None, 3], range=[0, spat.get_duration()], chop_bound=0, fieldThresh=0.2, minPlaceFieldNeighbours=0, smoothPlace=False)\n",
    "fig = nc_plot.loc_firing_and_place(placeData)\n",
    "\n",
    "# Comparing different methods of obtaining the place field centroid\n",
    "fig = nc_plot.loc_place_centroid(placeData, placeData['centroid'])\n",
    "fig = nc_plot.loc_place_centroid(placeData, ndata.place_field_centroid_zscore(update=False, z_threshold=1))"
   ]
  },
  {
   "cell_type": "code",
   "execution_count": null,
   "metadata": {},
   "outputs": [],
   "source": [
    "# Test the angle calculation\n",
    "import numpy as np\n",
    "from neurochat.nc_utils import angle_between_points\n",
    "a = np.array([1, 1.001])\n",
    "b = np.array([1, 1])\n",
    "c = np.array([1, 0])\n",
    "print(angle_between_points(a, b, c))"
   ]
  },
  {
   "cell_type": "code",
   "execution_count": null,
   "metadata": {},
   "outputs": [],
   "source": [
    "print(ndata._results)"
   ]
  }
 ],
 "metadata": {
  "kernelspec": {
   "display_name": "Python 3",
   "language": "python",
   "name": "python3"
  },
  "language_info": {
   "codemirror_mode": {
    "name": "ipython",
    "version": 3
   },
   "file_extension": ".py",
   "mimetype": "text/x-python",
   "name": "python",
   "nbconvert_exporter": "python",
   "pygments_lexer": "ipython3",
   "version": "3.7.2"
  }
 },
 "nbformat": 4,
 "nbformat_minor": 2
}
