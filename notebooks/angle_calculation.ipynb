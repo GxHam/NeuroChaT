{
 "cells": [
  {
   "cell_type": "code",
   "execution_count": 34,
   "metadata": {},
   "outputs": [
    {
     "name": "stdout",
     "output_type": "stream",
     "text": [
      "DEBUG:13:35:09 (pyplot.py)  DEBUG--  Loaded backend module://ipykernel.pylab.backend_inline version unknown.\n",
      "The autoreload extension is already loaded. To reload it, use:\n",
      "  %reload_ext autoreload\n"
     ]
    }
   ],
   "source": [
    "import os\n",
    "import sys\n",
    "%matplotlib inline\n",
    "sys.path.insert(1, r'C:\\Users\\smartin5\\Repos\\myNeurochat')\n",
    "%load_ext autoreload\n",
    "%autoreload 2"
   ]
  },
  {
   "cell_type": "code",
   "execution_count": 35,
   "metadata": {},
   "outputs": [],
   "source": [
    "from neurochat.nc_control import NeuroChaT"
   ]
  },
  {
   "cell_type": "code",
   "execution_count": 43,
   "metadata": {},
   "outputs": [
    {
     "name": "stdout",
     "output_type": "stream",
     "text": [
      "DEBUG:13:46:49 (pyplot.py)  DEBUG--  Loaded backend pdf version unknown.\n",
      ":13:46:49 (nc_control.py)  --  Computing place field for unit: 1 with value 2\n",
      "DEBUG:13:46:52 (colorbar.py)  DEBUG--  locator: <matplotlib.colorbar._ColorbarAutoLocator object at 0x000000002B8B6C50>\n",
      "DEBUG:13:46:52 (colorbar.py)  DEBUG--  Using auto colorbar locator on colorbar\n",
      "DEBUG:13:46:52 (colorbar.py)  DEBUG--  locator: <matplotlib.colorbar._ColorbarAutoLocator object at 0x000000002B8B6C50>\n",
      "DEBUG:13:46:52 (colorbar.py)  DEBUG--  Setting pcolormesh\n",
      "DEBUG:13:46:53 (colorbar.py)  DEBUG--  locator: <matplotlib.colorbar._ColorbarAutoLocator object at 0x000000002C2140F0>\n",
      "DEBUG:13:46:53 (colorbar.py)  DEBUG--  Using auto colorbar locator on colorbar\n",
      "DEBUG:13:46:53 (colorbar.py)  DEBUG--  locator: <matplotlib.colorbar._ColorbarAutoLocator object at 0x000000002C2140F0>\n",
      "DEBUG:13:46:53 (colorbar.py)  DEBUG--  Setting pcolormesh\n",
      ":13:46:54 (nc_control.py)  --  Computing place field for unit: 2 with value 3\n",
      "DEBUG:13:46:56 (colorbar.py)  DEBUG--  locator: <matplotlib.colorbar._ColorbarAutoLocator object at 0x000000002C9CDFD0>\n",
      "DEBUG:13:46:56 (colorbar.py)  DEBUG--  Using auto colorbar locator on colorbar\n",
      "DEBUG:13:46:57 (colorbar.py)  DEBUG--  locator: <matplotlib.colorbar._ColorbarAutoLocator object at 0x000000002C9CDFD0>\n",
      "DEBUG:13:46:57 (colorbar.py)  DEBUG--  Setting pcolormesh\n",
      "DEBUG:13:46:57 (colorbar.py)  DEBUG--  locator: <matplotlib.colorbar._ColorbarAutoLocator object at 0x000000002E545128>\n",
      "DEBUG:13:46:57 (colorbar.py)  DEBUG--  Using auto colorbar locator on colorbar\n",
      "DEBUG:13:46:58 (colorbar.py)  DEBUG--  locator: <matplotlib.colorbar._ColorbarAutoLocator object at 0x000000002E545128>\n",
      "DEBUG:13:46:58 (colorbar.py)  DEBUG--  Setting pcolormesh\n",
      ":13:46:58 (nc_control.py)  --  Computing place field for unit: 3 with value 2\n",
      "DEBUG:13:47:00 (colorbar.py)  DEBUG--  locator: <matplotlib.colorbar._ColorbarAutoLocator object at 0x000000002C954518>\n",
      "DEBUG:13:47:01 (colorbar.py)  DEBUG--  Using auto colorbar locator on colorbar\n",
      "DEBUG:13:47:01 (colorbar.py)  DEBUG--  locator: <matplotlib.colorbar._ColorbarAutoLocator object at 0x000000002C954518>\n",
      "DEBUG:13:47:01 (colorbar.py)  DEBUG--  Setting pcolormesh\n",
      "DEBUG:13:47:01 (colorbar.py)  DEBUG--  locator: <matplotlib.colorbar._ColorbarAutoLocator object at 0x000000002BEAEDA0>\n",
      "DEBUG:13:47:02 (colorbar.py)  DEBUG--  Using auto colorbar locator on colorbar\n",
      "DEBUG:13:47:02 (colorbar.py)  DEBUG--  locator: <matplotlib.colorbar._ColorbarAutoLocator object at 0x000000002BEAEDA0>\n",
      "DEBUG:13:47:02 (colorbar.py)  DEBUG--  Setting pcolormesh\n",
      "DEBUG:13:47:02 (_base.py)  DEBUG--  update_title_pos\n",
      "DEBUG:13:47:03 (backend_pdf.py)  DEBUG--  Assigning font /b'F1' = 'c:\\\\users\\\\smartin5\\\\appdata\\\\local\\\\programs\\\\python\\\\python37\\\\lib\\\\site-packages\\\\matplotlib\\\\mpl-data\\\\fonts\\\\ttf\\\\DejaVuSans.ttf'\n",
      "DEBUG:13:47:04 (_base.py)  DEBUG--  update_title_pos\n",
      "DEBUG:13:47:04 (_base.py)  DEBUG--  update_title_pos\n",
      "DEBUG:13:47:04 (_base.py)  DEBUG--  update_title_pos\n",
      "DEBUG:13:47:04 (_base.py)  DEBUG--  update_title_pos\n",
      "DEBUG:13:47:05 (_base.py)  DEBUG--  update_title_pos\n",
      "DEBUG:13:47:05 (_base.py)  DEBUG--  update_title_pos\n",
      "DEBUG:13:47:05 (_base.py)  DEBUG--  update_title_pos\n",
      "DEBUG:13:47:06 (_base.py)  DEBUG--  update_title_pos\n",
      "DEBUG:13:47:06 (_base.py)  DEBUG--  update_title_pos\n",
      "DEBUG:13:47:06 (_base.py)  DEBUG--  update_title_pos\n",
      "DEBUG:13:47:06 (_base.py)  DEBUG--  update_title_pos\n",
      "DEBUG:13:47:07 (_base.py)  DEBUG--  update_title_pos\n",
      "DEBUG:13:47:07 (_base.py)  DEBUG--  update_title_pos\n",
      "DEBUG:13:47:07 (_base.py)  DEBUG--  update_title_pos\n",
      ":13:47:08 (nc_control.py)  --  Angle calculation completed!\n",
      "DEBUG:13:47:08 (backend_pdf.py)  DEBUG--  Embedding font c:\\users\\smartin5\\appdata\\local\\programs\\python\\python37\\lib\\site-packages\\matplotlib\\mpl-data\\fonts\\ttf\\DejaVuSans.ttf.\n",
      "DEBUG:13:47:08 (backend_pdf.py)  DEBUG--  Writing TrueType font.\n",
      ":13:47:08 (nc_control.py)  --  Output graphics saved to C:\\Users\\smartin5\\Neuroscience\\Neurochat_egs\\angleoutput.pdf\n"
     ]
    }
   ],
   "source": [
    "main_dir = \"C:\\\\Users\\\\smartin5\\\\Neuroscience\\\\Neurochat_egs\"\n",
    "file_name = \"angle_calculation.xlsx\"\n",
    "excel_file_path = os.path.join(main_dir, file_name)\n",
    "neuro_control = NeuroChaT()\n",
    "# print(neuro_control.ndata.spat.time)\n",
    "pdf_name = os.path.join(main_dir, file_name[:5] + \"output\" + \".pdf\")\n",
    "neuro_control.open_pdf(pdf_name)\n",
    "neuro_control.angle_calculation(excel_file_path)\n",
    "neuro_control.close_pdf()"
   ]
  }
 ],
 "metadata": {
  "kernelspec": {
   "display_name": "Python 3",
   "language": "python",
   "name": "python3"
  },
  "language_info": {
   "codemirror_mode": {
    "name": "ipython",
    "version": 3
   },
   "file_extension": ".py",
   "mimetype": "text/x-python",
   "name": "python",
   "nbconvert_exporter": "python",
   "pygments_lexer": "ipython3",
   "version": "3.7.2"
  }
 },
 "nbformat": 4,
 "nbformat_minor": 2
}
