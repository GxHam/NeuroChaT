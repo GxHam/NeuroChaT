{
 "cells": [
  {
   "cell_type": "code",
   "execution_count": 1,
   "metadata": {},
   "outputs": [],
   "source": [
    "import os\n",
    "import sys\n",
    "%matplotlib inline\n",
    "sys.path.insert(1, r'C:\\Users\\smartin5\\Repos\\myNeurochat')\n",
    "%load_ext autoreload\n",
    "%autoreload 2"
   ]
  },
  {
   "cell_type": "code",
   "execution_count": 2,
   "metadata": {},
   "outputs": [],
   "source": [
    "from neurochat.nc_control import NeuroChaT"
   ]
  },
  {
   "cell_type": "code",
   "execution_count": 3,
   "metadata": {},
   "outputs": [
    {
     "name": "stdout",
     "output_type": "stream",
     "text": [
      "DEBUG:08:54:16 (pyplot.py)  DEBUG--  Loaded backend pdf version unknown.\n",
      ":08:54:16 (nc_control.py)  --  Computing place field for unit: 1 with value 2\n",
      "DEBUG:08:54:22 (colorbar.py)  DEBUG--  locator: <matplotlib.colorbar._ColorbarAutoLocator object at 0x000000002B38FA90>\n",
      "DEBUG:08:54:22 (colorbar.py)  DEBUG--  Using auto colorbar locator on colorbar\n",
      "DEBUG:08:54:23 (colorbar.py)  DEBUG--  locator: <matplotlib.colorbar._ColorbarAutoLocator object at 0x000000002B38FA90>\n",
      "DEBUG:08:54:23 (colorbar.py)  DEBUG--  Setting pcolormesh\n",
      "DEBUG:08:54:23 (colorbar.py)  DEBUG--  locator: <matplotlib.colorbar._ColorbarAutoLocator object at 0x000000002B3FBBE0>\n",
      "DEBUG:08:54:23 (colorbar.py)  DEBUG--  Using auto colorbar locator on colorbar\n",
      "DEBUG:08:54:24 (colorbar.py)  DEBUG--  locator: <matplotlib.colorbar._ColorbarAutoLocator object at 0x000000002B3FBBE0>\n",
      "DEBUG:08:54:24 (colorbar.py)  DEBUG--  Setting pcolormesh\n"
     ]
    },
    {
     "name": "stderr",
     "output_type": "stream",
     "text": [
      "c:\\users\\smartin5\\appdata\\local\\programs\\python\\python37\\lib\\site-packages\\matplotlib\\tight_layout.py:231: UserWarning: tight_layout : falling back to Agg renderer\n",
      "  warnings.warn(\"tight_layout : falling back to Agg renderer\")\n"
     ]
    },
    {
     "name": "stdout",
     "output_type": "stream",
     "text": [
      "DEBUG:08:54:24 (font_manager.py)  DEBUG--  findfont: Matching :family=sans-serif:style=normal:variant=normal:weight=normal:stretch=normal:size=10.0 to DejaVu Sans ('c:\\\\users\\\\smartin5\\\\appdata\\\\local\\\\programs\\\\python\\\\python37\\\\lib\\\\site-packages\\\\matplotlib\\\\mpl-data\\\\fonts\\\\ttf\\\\DejaVuSans.ttf') with score of 0.050000.\n",
      "DEBUG:08:54:25 (_base.py)  DEBUG--  update_title_pos\n",
      "DEBUG:08:54:25 (_base.py)  DEBUG--  update_title_pos\n",
      "DEBUG:08:54:25 (_base.py)  DEBUG--  update_title_pos\n",
      "DEBUG:08:54:25 (_base.py)  DEBUG--  update_title_pos\n",
      "DEBUG:08:54:26 (_base.py)  DEBUG--  update_title_pos\n",
      ":08:54:26 (nc_control.py)  --  Computing place field for unit: 2 with value 3\n",
      "DEBUG:08:54:28 (colorbar.py)  DEBUG--  locator: <matplotlib.colorbar._ColorbarAutoLocator object at 0x000000002BF18D68>\n",
      "DEBUG:08:54:28 (colorbar.py)  DEBUG--  Using auto colorbar locator on colorbar\n",
      "DEBUG:08:54:29 (colorbar.py)  DEBUG--  locator: <matplotlib.colorbar._ColorbarAutoLocator object at 0x000000002BF18D68>\n",
      "DEBUG:08:54:29 (colorbar.py)  DEBUG--  Setting pcolormesh\n",
      "DEBUG:08:54:29 (colorbar.py)  DEBUG--  locator: <matplotlib.colorbar._ColorbarAutoLocator object at 0x000000002B492080>\n",
      "DEBUG:08:54:30 (colorbar.py)  DEBUG--  Using auto colorbar locator on colorbar\n",
      "DEBUG:08:54:30 (colorbar.py)  DEBUG--  locator: <matplotlib.colorbar._ColorbarAutoLocator object at 0x000000002B492080>\n",
      "DEBUG:08:54:30 (colorbar.py)  DEBUG--  Setting pcolormesh\n",
      "DEBUG:08:54:30 (_base.py)  DEBUG--  update_title_pos\n",
      "DEBUG:08:54:31 (_base.py)  DEBUG--  update_title_pos\n",
      "DEBUG:08:54:31 (_base.py)  DEBUG--  update_title_pos\n",
      "DEBUG:08:54:31 (_base.py)  DEBUG--  update_title_pos\n",
      "DEBUG:08:54:31 (_base.py)  DEBUG--  update_title_pos\n",
      ":08:54:32 (nc_control.py)  --  Computing place field for unit: 3 with value 2\n",
      "DEBUG:08:54:34 (colorbar.py)  DEBUG--  locator: <matplotlib.colorbar._ColorbarAutoLocator object at 0x000000002BF59B38>\n",
      "DEBUG:08:54:34 (colorbar.py)  DEBUG--  Using auto colorbar locator on colorbar\n",
      "DEBUG:08:54:34 (colorbar.py)  DEBUG--  locator: <matplotlib.colorbar._ColorbarAutoLocator object at 0x000000002BF59B38>\n",
      "DEBUG:08:54:34 (colorbar.py)  DEBUG--  Setting pcolormesh\n",
      "DEBUG:08:54:35 (colorbar.py)  DEBUG--  locator: <matplotlib.colorbar._ColorbarAutoLocator object at 0x000000002CCB8C88>\n",
      "DEBUG:08:54:35 (colorbar.py)  DEBUG--  Using auto colorbar locator on colorbar\n",
      "DEBUG:08:54:35 (colorbar.py)  DEBUG--  locator: <matplotlib.colorbar._ColorbarAutoLocator object at 0x000000002CCB8C88>\n",
      "DEBUG:08:54:35 (colorbar.py)  DEBUG--  Setting pcolormesh\n",
      "DEBUG:08:54:36 (_base.py)  DEBUG--  update_title_pos\n",
      "DEBUG:08:54:36 (_base.py)  DEBUG--  update_title_pos\n",
      "DEBUG:08:54:36 (_base.py)  DEBUG--  update_title_pos\n",
      "DEBUG:08:54:36 (_base.py)  DEBUG--  update_title_pos\n",
      "DEBUG:08:54:37 (_base.py)  DEBUG--  update_title_pos\n",
      "DEBUG:08:54:37 (_base.py)  DEBUG--  update_title_pos\n",
      "DEBUG:08:54:37 (backend_pdf.py)  DEBUG--  Assigning font /b'F1' = 'c:\\\\users\\\\smartin5\\\\appdata\\\\local\\\\programs\\\\python\\\\python37\\\\lib\\\\site-packages\\\\matplotlib\\\\mpl-data\\\\fonts\\\\ttf\\\\DejaVuSans.ttf'\n",
      "DEBUG:08:54:38 (_base.py)  DEBUG--  update_title_pos\n",
      "DEBUG:08:54:38 (_base.py)  DEBUG--  update_title_pos\n",
      "DEBUG:08:54:38 (_base.py)  DEBUG--  update_title_pos\n",
      "DEBUG:08:54:39 (_base.py)  DEBUG--  update_title_pos\n",
      "DEBUG:08:54:39 (_base.py)  DEBUG--  update_title_pos\n",
      "DEBUG:08:54:40 (_base.py)  DEBUG--  update_title_pos\n",
      "DEBUG:08:54:40 (_base.py)  DEBUG--  update_title_pos\n",
      "DEBUG:08:54:40 (_base.py)  DEBUG--  update_title_pos\n",
      "DEBUG:08:54:40 (_base.py)  DEBUG--  update_title_pos\n",
      "DEBUG:08:54:41 (_base.py)  DEBUG--  update_title_pos\n",
      "DEBUG:08:54:41 (_base.py)  DEBUG--  update_title_pos\n",
      "DEBUG:08:54:41 (_base.py)  DEBUG--  update_title_pos\n",
      "DEBUG:08:54:41 (_base.py)  DEBUG--  update_title_pos\n",
      "DEBUG:08:54:42 (_base.py)  DEBUG--  update_title_pos\n"
     ]
    },
    {
     "ename": "PermissionError",
     "evalue": "[Errno 13] Permission denied: 'C:\\\\Users\\\\smartin5\\\\Neuroscience\\\\Neurochat_egs\\\\angle_calculation.xlsx'",
     "output_type": "error",
     "traceback": [
      "\u001b[1;31m---------------------------------------------------------------------------\u001b[0m",
      "\u001b[1;31mPermissionError\u001b[0m                           Traceback (most recent call last)",
      "\u001b[1;32m<ipython-input-3-f2ed632893fb>\u001b[0m in \u001b[0;36m<module>\u001b[1;34m\u001b[0m\n\u001b[0;32m      6\u001b[0m \u001b[0mpdf_name\u001b[0m \u001b[1;33m=\u001b[0m \u001b[0mos\u001b[0m\u001b[1;33m.\u001b[0m\u001b[0mpath\u001b[0m\u001b[1;33m.\u001b[0m\u001b[0mjoin\u001b[0m\u001b[1;33m(\u001b[0m\u001b[0mmain_dir\u001b[0m\u001b[1;33m,\u001b[0m \u001b[0mfile_name\u001b[0m\u001b[1;33m[\u001b[0m\u001b[1;33m:\u001b[0m\u001b[1;36m5\u001b[0m\u001b[1;33m]\u001b[0m \u001b[1;33m+\u001b[0m \u001b[1;34m\"output\"\u001b[0m \u001b[1;33m+\u001b[0m \u001b[1;34m\".pdf\"\u001b[0m\u001b[1;33m)\u001b[0m\u001b[1;33m\u001b[0m\u001b[1;33m\u001b[0m\u001b[0m\n\u001b[0;32m      7\u001b[0m \u001b[0mneuro_control\u001b[0m\u001b[1;33m.\u001b[0m\u001b[0mopen_pdf\u001b[0m\u001b[1;33m(\u001b[0m\u001b[0mpdf_name\u001b[0m\u001b[1;33m)\u001b[0m\u001b[1;33m\u001b[0m\u001b[1;33m\u001b[0m\u001b[0m\n\u001b[1;32m----> 8\u001b[1;33m \u001b[0mneuro_control\u001b[0m\u001b[1;33m.\u001b[0m\u001b[0mangle_calculation\u001b[0m\u001b[1;33m(\u001b[0m\u001b[0mexcel_file_path\u001b[0m\u001b[1;33m)\u001b[0m\u001b[1;33m\u001b[0m\u001b[1;33m\u001b[0m\u001b[0m\n\u001b[0m\u001b[0;32m      9\u001b[0m \u001b[0mneuro_control\u001b[0m\u001b[1;33m.\u001b[0m\u001b[0mclose_pdf\u001b[0m\u001b[1;33m(\u001b[0m\u001b[1;33m)\u001b[0m\u001b[1;33m\u001b[0m\u001b[1;33m\u001b[0m\u001b[0m\n",
      "\u001b[1;32m~\\Repos\\myNeurochat\\neurochat\\nc_control.py\u001b[0m in \u001b[0;36mangle_calculation\u001b[1;34m(self, excel_file, should_plot)\u001b[0m\n\u001b[0;32m   1324\u001b[0m                 \u001b[0mself\u001b[0m\u001b[1;33m.\u001b[0m\u001b[0mclose_fig\u001b[0m\u001b[1;33m(\u001b[0m\u001b[0mfigs\u001b[0m\u001b[1;33m)\u001b[0m\u001b[1;33m\u001b[0m\u001b[1;33m\u001b[0m\u001b[0m\n\u001b[0;32m   1325\u001b[0m \u001b[1;33m\u001b[0m\u001b[0m\n\u001b[1;32m-> 1326\u001b[1;33m             \u001b[0mexcel_info\u001b[0m\u001b[1;33m.\u001b[0m\u001b[0mto_excel\u001b[0m\u001b[1;33m(\u001b[0m\u001b[0mexcel_file\u001b[0m\u001b[1;33m)\u001b[0m\u001b[1;33m\u001b[0m\u001b[1;33m\u001b[0m\u001b[0m\n\u001b[0m\u001b[0;32m   1327\u001b[0m             \u001b[0mlogging\u001b[0m\u001b[1;33m.\u001b[0m\u001b[0minfo\u001b[0m\u001b[1;33m(\u001b[0m\u001b[1;34m'Angle calculation completed!'\u001b[0m\u001b[1;33m)\u001b[0m\u001b[1;33m\u001b[0m\u001b[1;33m\u001b[0m\u001b[0m\n\u001b[0;32m   1328\u001b[0m         \u001b[1;32melse\u001b[0m\u001b[1;33m:\u001b[0m\u001b[1;33m\u001b[0m\u001b[1;33m\u001b[0m\u001b[0m\n",
      "\u001b[1;32mc:\\users\\smartin5\\appdata\\local\\programs\\python\\python37\\lib\\site-packages\\pandas\\core\\generic.py\u001b[0m in \u001b[0;36mto_excel\u001b[1;34m(self, excel_writer, sheet_name, na_rep, float_format, columns, header, index, index_label, startrow, startcol, engine, merge_cells, encoding, inf_rep, verbose, freeze_panes)\u001b[0m\n\u001b[0;32m   2116\u001b[0m         formatter.write(excel_writer, sheet_name=sheet_name, startrow=startrow,\n\u001b[0;32m   2117\u001b[0m                         \u001b[0mstartcol\u001b[0m\u001b[1;33m=\u001b[0m\u001b[0mstartcol\u001b[0m\u001b[1;33m,\u001b[0m \u001b[0mfreeze_panes\u001b[0m\u001b[1;33m=\u001b[0m\u001b[0mfreeze_panes\u001b[0m\u001b[1;33m,\u001b[0m\u001b[1;33m\u001b[0m\u001b[1;33m\u001b[0m\u001b[0m\n\u001b[1;32m-> 2118\u001b[1;33m                         engine=engine)\n\u001b[0m\u001b[0;32m   2119\u001b[0m \u001b[1;33m\u001b[0m\u001b[0m\n\u001b[0;32m   2120\u001b[0m     def to_json(self, path_or_buf=None, orient=None, date_format=None,\n",
      "\u001b[1;32mc:\\users\\smartin5\\appdata\\local\\programs\\python\\python37\\lib\\site-packages\\pandas\\io\\formats\\excel.py\u001b[0m in \u001b[0;36mwrite\u001b[1;34m(self, writer, sheet_name, startrow, startcol, freeze_panes, engine)\u001b[0m\n\u001b[0;32m    662\u001b[0m                            freeze_panes=freeze_panes)\n\u001b[0;32m    663\u001b[0m         \u001b[1;32mif\u001b[0m \u001b[0mneed_save\u001b[0m\u001b[1;33m:\u001b[0m\u001b[1;33m\u001b[0m\u001b[1;33m\u001b[0m\u001b[0m\n\u001b[1;32m--> 664\u001b[1;33m             \u001b[0mwriter\u001b[0m\u001b[1;33m.\u001b[0m\u001b[0msave\u001b[0m\u001b[1;33m(\u001b[0m\u001b[1;33m)\u001b[0m\u001b[1;33m\u001b[0m\u001b[1;33m\u001b[0m\u001b[0m\n\u001b[0m",
      "\u001b[1;32mc:\\users\\smartin5\\appdata\\local\\programs\\python\\python37\\lib\\site-packages\\pandas\\io\\excel.py\u001b[0m in \u001b[0;36msave\u001b[1;34m(self)\u001b[0m\n\u001b[0;32m   1226\u001b[0m         \u001b[0mSave\u001b[0m \u001b[0mworkbook\u001b[0m \u001b[0mto\u001b[0m \u001b[0mdisk\u001b[0m\u001b[1;33m.\u001b[0m\u001b[1;33m\u001b[0m\u001b[1;33m\u001b[0m\u001b[0m\n\u001b[0;32m   1227\u001b[0m         \"\"\"\n\u001b[1;32m-> 1228\u001b[1;33m         \u001b[1;32mreturn\u001b[0m \u001b[0mself\u001b[0m\u001b[1;33m.\u001b[0m\u001b[0mbook\u001b[0m\u001b[1;33m.\u001b[0m\u001b[0msave\u001b[0m\u001b[1;33m(\u001b[0m\u001b[0mself\u001b[0m\u001b[1;33m.\u001b[0m\u001b[0mpath\u001b[0m\u001b[1;33m)\u001b[0m\u001b[1;33m\u001b[0m\u001b[1;33m\u001b[0m\u001b[0m\n\u001b[0m\u001b[0;32m   1229\u001b[0m \u001b[1;33m\u001b[0m\u001b[0m\n\u001b[0;32m   1230\u001b[0m     \u001b[1;33m@\u001b[0m\u001b[0mclassmethod\u001b[0m\u001b[1;33m\u001b[0m\u001b[1;33m\u001b[0m\u001b[0m\n",
      "\u001b[1;32mc:\\users\\smartin5\\appdata\\local\\programs\\python\\python37\\lib\\site-packages\\openpyxl\\workbook\\workbook.py\u001b[0m in \u001b[0;36msave\u001b[1;34m(self, filename)\u001b[0m\n\u001b[0;32m    394\u001b[0m         \u001b[1;32mif\u001b[0m \u001b[0mself\u001b[0m\u001b[1;33m.\u001b[0m\u001b[0mwrite_only\u001b[0m \u001b[1;32mand\u001b[0m \u001b[1;32mnot\u001b[0m \u001b[0mself\u001b[0m\u001b[1;33m.\u001b[0m\u001b[0mworksheets\u001b[0m\u001b[1;33m:\u001b[0m\u001b[1;33m\u001b[0m\u001b[1;33m\u001b[0m\u001b[0m\n\u001b[0;32m    395\u001b[0m             \u001b[0mself\u001b[0m\u001b[1;33m.\u001b[0m\u001b[0mcreate_sheet\u001b[0m\u001b[1;33m(\u001b[0m\u001b[1;33m)\u001b[0m\u001b[1;33m\u001b[0m\u001b[1;33m\u001b[0m\u001b[0m\n\u001b[1;32m--> 396\u001b[1;33m         \u001b[0msave_workbook\u001b[0m\u001b[1;33m(\u001b[0m\u001b[0mself\u001b[0m\u001b[1;33m,\u001b[0m \u001b[0mfilename\u001b[0m\u001b[1;33m)\u001b[0m\u001b[1;33m\u001b[0m\u001b[1;33m\u001b[0m\u001b[0m\n\u001b[0m\u001b[0;32m    397\u001b[0m \u001b[1;33m\u001b[0m\u001b[0m\n\u001b[0;32m    398\u001b[0m \u001b[1;33m\u001b[0m\u001b[0m\n",
      "\u001b[1;32mc:\\users\\smartin5\\appdata\\local\\programs\\python\\python37\\lib\\site-packages\\openpyxl\\writer\\excel.py\u001b[0m in \u001b[0;36msave_workbook\u001b[1;34m(workbook, filename)\u001b[0m\n\u001b[0;32m    290\u001b[0m \u001b[1;33m\u001b[0m\u001b[0m\n\u001b[0;32m    291\u001b[0m     \"\"\"\n\u001b[1;32m--> 292\u001b[1;33m     \u001b[0marchive\u001b[0m \u001b[1;33m=\u001b[0m \u001b[0mZipFile\u001b[0m\u001b[1;33m(\u001b[0m\u001b[0mfilename\u001b[0m\u001b[1;33m,\u001b[0m \u001b[1;34m'w'\u001b[0m\u001b[1;33m,\u001b[0m \u001b[0mZIP_DEFLATED\u001b[0m\u001b[1;33m,\u001b[0m \u001b[0mallowZip64\u001b[0m\u001b[1;33m=\u001b[0m\u001b[1;32mTrue\u001b[0m\u001b[1;33m)\u001b[0m\u001b[1;33m\u001b[0m\u001b[1;33m\u001b[0m\u001b[0m\n\u001b[0m\u001b[0;32m    293\u001b[0m     \u001b[0mwriter\u001b[0m \u001b[1;33m=\u001b[0m \u001b[0mExcelWriter\u001b[0m\u001b[1;33m(\u001b[0m\u001b[0mworkbook\u001b[0m\u001b[1;33m,\u001b[0m \u001b[0marchive\u001b[0m\u001b[1;33m)\u001b[0m\u001b[1;33m\u001b[0m\u001b[1;33m\u001b[0m\u001b[0m\n\u001b[0;32m    294\u001b[0m     \u001b[0mwriter\u001b[0m\u001b[1;33m.\u001b[0m\u001b[0msave\u001b[0m\u001b[1;33m(\u001b[0m\u001b[1;33m)\u001b[0m\u001b[1;33m\u001b[0m\u001b[1;33m\u001b[0m\u001b[0m\n",
      "\u001b[1;32mc:\\users\\smartin5\\appdata\\local\\programs\\python\\python37\\lib\\zipfile.py\u001b[0m in \u001b[0;36m__init__\u001b[1;34m(self, file, mode, compression, allowZip64, compresslevel)\u001b[0m\n\u001b[0;32m   1202\u001b[0m             \u001b[1;32mwhile\u001b[0m \u001b[1;32mTrue\u001b[0m\u001b[1;33m:\u001b[0m\u001b[1;33m\u001b[0m\u001b[1;33m\u001b[0m\u001b[0m\n\u001b[0;32m   1203\u001b[0m                 \u001b[1;32mtry\u001b[0m\u001b[1;33m:\u001b[0m\u001b[1;33m\u001b[0m\u001b[1;33m\u001b[0m\u001b[0m\n\u001b[1;32m-> 1204\u001b[1;33m                     \u001b[0mself\u001b[0m\u001b[1;33m.\u001b[0m\u001b[0mfp\u001b[0m \u001b[1;33m=\u001b[0m \u001b[0mio\u001b[0m\u001b[1;33m.\u001b[0m\u001b[0mopen\u001b[0m\u001b[1;33m(\u001b[0m\u001b[0mfile\u001b[0m\u001b[1;33m,\u001b[0m \u001b[0mfilemode\u001b[0m\u001b[1;33m)\u001b[0m\u001b[1;33m\u001b[0m\u001b[1;33m\u001b[0m\u001b[0m\n\u001b[0m\u001b[0;32m   1205\u001b[0m                 \u001b[1;32mexcept\u001b[0m \u001b[0mOSError\u001b[0m\u001b[1;33m:\u001b[0m\u001b[1;33m\u001b[0m\u001b[1;33m\u001b[0m\u001b[0m\n\u001b[0;32m   1206\u001b[0m                     \u001b[1;32mif\u001b[0m \u001b[0mfilemode\u001b[0m \u001b[1;32min\u001b[0m \u001b[0mmodeDict\u001b[0m\u001b[1;33m:\u001b[0m\u001b[1;33m\u001b[0m\u001b[1;33m\u001b[0m\u001b[0m\n",
      "\u001b[1;31mPermissionError\u001b[0m: [Errno 13] Permission denied: 'C:\\\\Users\\\\smartin5\\\\Neuroscience\\\\Neurochat_egs\\\\angle_calculation.xlsx'"
     ]
    }
   ],
   "source": [
    "main_dir = \"C:\\\\Users\\\\smartin5\\\\Neuroscience\\\\Neurochat_egs\"\n",
    "file_name = \"angle_calculation.xlsx\"\n",
    "excel_file_path = os.path.join(main_dir, file_name)\n",
    "neuro_control = NeuroChaT()\n",
    "# print(neuro_control.ndata.spat.time)\n",
    "pdf_name = os.path.join(main_dir, file_name[:5] + \"output\" + \".pdf\")\n",
    "neuro_control.open_pdf(pdf_name)\n",
    "neuro_control.angle_calculation(excel_file_path)\n",
    "neuro_control.close_pdf()"
   ]
  },
  {
   "cell_type": "code",
   "execution_count": 4,
   "metadata": {},
   "outputs": [],
   "source": [
    "from neurochat.nc_datacontainer import NDataContainer\n",
    "import neurochat.nc_plot as nc_plot"
   ]
  },
  {
   "cell_type": "code",
   "execution_count": 5,
   "metadata": {},
   "outputs": [],
   "source": [
    "home = os.path.expanduser(\"~\")\n",
    "data_dir = os.path.join(\n",
    "    home, \"recording_example\")\n",
    "prepend_data_dir = lambda name : os.path.join(data_dir, name)"
   ]
  },
  {
   "cell_type": "code",
   "execution_count": 6,
   "metadata": {},
   "outputs": [],
   "source": [
    "# Setup the locations of interest\n",
    "spike_filenames = [\n",
    "    \"010416b-LS3-50Hz10V5ms.2\",\n",
    "    \"010416b-LS3-50Hz10V5ms.1\",\n",
    "    \"010416b-LS3-50Hz10V5ms.3\"\n",
    "]\n",
    "# position = spike_filenames[0][010416b-LS3-50Hz10V5ms_1.txt\n",
    "spike_absolute_filenames = [prepend_data_dir(name) for name in spike_filenames]\n",
    "position_filename = [prepend_data_dir(\"010416b-LS3-50Hz10V5ms_2.txt\")]\n",
    "units = [2, 3, 2]"
   ]
  },
  {
   "cell_type": "code",
   "execution_count": 41,
   "metadata": {},
   "outputs": [
    {
     "name": "stdout",
     "output_type": "stream",
     "text": [
      "NData Container Object with 0 objects:\n",
      "Files are {'Spike': [['C:\\\\Users\\\\smartin5\\\\recording_example\\\\010416b-LS3-50Hz10V5ms.2', None, None], ['C:\\\\Users\\\\smartin5\\\\recording_example\\\\010416b-LS3-50Hz10V5ms.1', None, None], ['C:\\\\Users\\\\smartin5\\\\recording_example\\\\010416b-LS3-50Hz10V5ms.3', None, None]], 'Position': [['C:\\\\Users\\\\smartin5\\\\recording_example\\\\010416b-LS3-50Hz10V5ms_2.txt', None, None], ['C:\\\\Users\\\\smartin5\\\\recording_example\\\\010416b-LS3-50Hz10V5ms_2.txt', None, None], ['C:\\\\Users\\\\smartin5\\\\recording_example\\\\010416b-LS3-50Hz10V5ms_2.txt', None, None]]}\n",
      "Units are \n",
      "[[2], [3], [2]]\n"
     ]
    }
   ],
   "source": [
    "# Set up the data\n",
    "file_types = NDataContainer.EFileType\n",
    "collection = NDataContainer(share_positions=True)\n",
    "collection.add_files(file_types.Spike, spike_absolute_filenames)\n",
    "collection.add_files(file_types.Position, position_filename)\n",
    "collection.set_units(units)\n",
    "print(collection)\n",
    "\n",
    "# Load the data\n",
    "collection.setup()"
   ]
  },
  {
   "cell_type": "code",
   "execution_count": 42,
   "metadata": {},
   "outputs": [
    {
     "name": "stdout",
     "output_type": "stream",
     "text": [
      "units are [1, 2, 3, 4, 5, 6, 7, 8]\n",
      "units are [1, 2, 3, 4, 5, 6, 7]\n",
      "units are [1, 2]\n"
     ]
    }
   ],
   "source": [
    "collection.list_all_units()"
   ]
  },
  {
   "cell_type": "code",
   "execution_count": 10,
   "metadata": {},
   "outputs": [],
   "source": [
    "from neurochat.nc_utils import angle_between_points"
   ]
  },
  {
   "cell_type": "code",
   "execution_count": 43,
   "metadata": {},
   "outputs": [
    {
     "name": "stdout",
     "output_type": "stream",
     "text": [
      "DEBUG:09:23:27 (colorbar.py)  DEBUG--  locator: <matplotlib.colorbar._ColorbarAutoLocator object at 0x00000000337ABE80>\n",
      "DEBUG:09:23:27 (colorbar.py)  DEBUG--  Using auto colorbar locator on colorbar\n",
      "DEBUG:09:23:27 (colorbar.py)  DEBUG--  locator: <matplotlib.colorbar._ColorbarAutoLocator object at 0x00000000337ABE80>\n",
      "DEBUG:09:23:28 (colorbar.py)  DEBUG--  Setting pcolormesh\n",
      "DEBUG:09:23:28 (colorbar.py)  DEBUG--  locator: <matplotlib.colorbar._ColorbarAutoLocator object at 0x000000002CFFA0B8>\n",
      "DEBUG:09:23:28 (colorbar.py)  DEBUG--  Using auto colorbar locator on colorbar\n",
      "DEBUG:09:23:28 (colorbar.py)  DEBUG--  locator: <matplotlib.colorbar._ColorbarAutoLocator object at 0x000000002CFFA0B8>\n",
      "DEBUG:09:23:29 (colorbar.py)  DEBUG--  Setting pcolormesh\n",
      "DEBUG:09:23:29 (_base.py)  DEBUG--  update_title_pos\n",
      "DEBUG:09:23:29 (_base.py)  DEBUG--  update_title_pos\n",
      "DEBUG:09:23:30 (_base.py)  DEBUG--  update_title_pos\n",
      "DEBUG:09:23:30 (_base.py)  DEBUG--  update_title_pos\n",
      "DEBUG:09:23:30 (_base.py)  DEBUG--  update_title_pos\n",
      "DEBUG:09:23:30 (colorbar.py)  DEBUG--  locator: <matplotlib.colorbar._ColorbarAutoLocator object at 0x000000002D3F0A58>\n",
      "DEBUG:09:23:31 (colorbar.py)  DEBUG--  Using auto colorbar locator on colorbar\n",
      "DEBUG:09:23:31 (colorbar.py)  DEBUG--  locator: <matplotlib.colorbar._ColorbarAutoLocator object at 0x000000002D3F0A58>\n",
      "DEBUG:09:23:31 (colorbar.py)  DEBUG--  Setting pcolormesh\n",
      "DEBUG:09:23:31 (colorbar.py)  DEBUG--  locator: <matplotlib.colorbar._ColorbarAutoLocator object at 0x000000002D451828>\n",
      "DEBUG:09:23:32 (colorbar.py)  DEBUG--  Using auto colorbar locator on colorbar\n",
      "DEBUG:09:23:32 (colorbar.py)  DEBUG--  locator: <matplotlib.colorbar._ColorbarAutoLocator object at 0x000000002D451828>\n",
      "DEBUG:09:23:32 (colorbar.py)  DEBUG--  Setting pcolormesh\n",
      "DEBUG:09:23:33 (_base.py)  DEBUG--  update_title_pos\n",
      "DEBUG:09:23:33 (_base.py)  DEBUG--  update_title_pos\n",
      "DEBUG:09:23:33 (_base.py)  DEBUG--  update_title_pos\n",
      "DEBUG:09:23:33 (_base.py)  DEBUG--  update_title_pos\n",
      "DEBUG:09:23:34 (_base.py)  DEBUG--  update_title_pos\n",
      "DEBUG:09:23:34 (colorbar.py)  DEBUG--  locator: <matplotlib.colorbar._ColorbarAutoLocator object at 0x000000002D51E048>\n",
      "DEBUG:09:23:34 (colorbar.py)  DEBUG--  Using auto colorbar locator on colorbar\n",
      "DEBUG:09:23:34 (colorbar.py)  DEBUG--  locator: <matplotlib.colorbar._ColorbarAutoLocator object at 0x000000002D51E048>\n",
      "DEBUG:09:23:35 (colorbar.py)  DEBUG--  Setting pcolormesh\n",
      "DEBUG:09:23:35 (colorbar.py)  DEBUG--  locator: <matplotlib.colorbar._ColorbarAutoLocator object at 0x000000002D56EDD8>\n",
      "DEBUG:09:23:35 (colorbar.py)  DEBUG--  Using auto colorbar locator on colorbar\n",
      "DEBUG:09:23:35 (colorbar.py)  DEBUG--  locator: <matplotlib.colorbar._ColorbarAutoLocator object at 0x000000002D56EDD8>\n",
      "DEBUG:09:23:36 (colorbar.py)  DEBUG--  Setting pcolormesh\n",
      "DEBUG:09:23:36 (_base.py)  DEBUG--  update_title_pos\n",
      "DEBUG:09:23:36 (_base.py)  DEBUG--  update_title_pos\n",
      "DEBUG:09:23:37 (_base.py)  DEBUG--  update_title_pos\n",
      "DEBUG:09:23:37 (_base.py)  DEBUG--  update_title_pos\n",
      "DEBUG:09:23:37 (_base.py)  DEBUG--  update_title_pos\n",
      "[array([40.99844886, 29.63572606]), array([51.50111465, 14.7249777 ]), array([43.67433812, 45.282128  ])]\n",
      "20.793038953361474\n"
     ]
    }
   ],
   "source": [
    "centroids = []\n",
    "for data in collection:\n",
    "    place_data = data.place()\n",
    "    centroids.append(place_data['centroid'])\n",
    "    fig = nc_plot.loc_firing_and_place(place_data)\n",
    "print(centroids)\n",
    "print(angle_between_points(*centroids))"
   ]
  },
  {
   "cell_type": "code",
   "execution_count": 23,
   "metadata": {},
   "outputs": [
    {
     "name": "stdout",
     "output_type": "stream",
     "text": [
      "NData Container Object with 0 objects:\n",
      "Files are {'Spike': [['C:\\\\Users\\\\smartin5\\\\recording_example\\\\010416b-LS3-50Hz10V5ms.2', None, None], ['C:\\\\Users\\\\smartin5\\\\recording_example\\\\010416b-LS3-50Hz10V5ms.1', None, None], ['C:\\\\Users\\\\smartin5\\\\recording_example\\\\010416b-LS3-50Hz10V5ms.3', None, None]], 'Position': [['C:\\\\Users\\\\smartin5\\\\recording_example\\\\010416b-LS3-50Hz10V5ms_2.txt', None, None], ['C:\\\\Users\\\\smartin5\\\\recording_example\\\\010416b-LS3-50Hz10V5ms_2.txt', None, None], ['C:\\\\Users\\\\smartin5\\\\recording_example\\\\010416b-LS3-50Hz10V5ms_2.txt', None, None]]}\n",
      "Units are \n",
      "[[2], [3], [2]]\n"
     ]
    }
   ],
   "source": [
    "# Set up the data\n",
    "file_types = NDataContainer.EFileType\n",
    "collection = NDataContainer(share_positions=True, load_on_fly=True)\n",
    "collection.add_files(file_types.Spike, spike_absolute_filenames)\n",
    "collection.add_files(file_types.Position, position_filename)\n",
    "collection.set_units(units)\n",
    "print(collection)\n",
    "\n",
    "# Load the data\n",
    "collection.setup()"
   ]
  },
  {
   "cell_type": "code",
   "execution_count": 39,
   "metadata": {},
   "outputs": [
    {
     "name": "stdout",
     "output_type": "stream",
     "text": [
      "(1, None)\n",
      "[2]\n"
     ]
    }
   ],
   "source": [
    "print(collection._last_data_pt)\n",
    "print(collection.get_units(0))\n",
    "collection.setup()"
   ]
  },
  {
   "cell_type": "code",
   "execution_count": null,
   "metadata": {},
   "outputs": [
    {
     "name": "stdout",
     "output_type": "stream",
     "text": [
      "DEBUG:09:23:47 (colorbar.py)  DEBUG--  locator: <matplotlib.colorbar._ColorbarAutoLocator object at 0x000000002DB79278>\n",
      "DEBUG:09:23:47 (colorbar.py)  DEBUG--  Using auto colorbar locator on colorbar\n",
      "DEBUG:09:23:47 (colorbar.py)  DEBUG--  locator: <matplotlib.colorbar._ColorbarAutoLocator object at 0x000000002DB79278>\n",
      "DEBUG:09:23:47 (colorbar.py)  DEBUG--  Setting pcolormesh\n",
      "DEBUG:09:23:48 (colorbar.py)  DEBUG--  locator: <matplotlib.colorbar._ColorbarAutoLocator object at 0x000000002DBD8198>\n",
      "DEBUG:09:23:48 (colorbar.py)  DEBUG--  Using auto colorbar locator on colorbar\n",
      "DEBUG:09:23:48 (colorbar.py)  DEBUG--  locator: <matplotlib.colorbar._ColorbarAutoLocator object at 0x000000002DBD8198>\n",
      "DEBUG:09:23:48 (colorbar.py)  DEBUG--  Setting pcolormesh\n",
      "DEBUG:09:23:49 (_base.py)  DEBUG--  update_title_pos\n",
      "DEBUG:09:23:49 (_base.py)  DEBUG--  update_title_pos\n",
      "DEBUG:09:23:49 (_base.py)  DEBUG--  update_title_pos\n",
      "DEBUG:09:23:49 (_base.py)  DEBUG--  update_title_pos\n",
      "DEBUG:09:23:50 (_base.py)  DEBUG--  update_title_pos\n",
      "DEBUG:09:23:50 (colorbar.py)  DEBUG--  locator: <matplotlib.colorbar._ColorbarAutoLocator object at 0x000000002DC92BA8>\n",
      "DEBUG:09:23:50 (colorbar.py)  DEBUG--  Using auto colorbar locator on colorbar\n",
      "DEBUG:09:23:51 (colorbar.py)  DEBUG--  locator: <matplotlib.colorbar._ColorbarAutoLocator object at 0x000000002DC92BA8>\n",
      "DEBUG:09:23:51 (colorbar.py)  DEBUG--  Setting pcolormesh\n",
      "DEBUG:09:23:51 (colorbar.py)  DEBUG--  locator: <matplotlib.colorbar._ColorbarAutoLocator object at 0x000000003380A080>\n",
      "DEBUG:09:23:51 (colorbar.py)  DEBUG--  Using auto colorbar locator on colorbar\n",
      "DEBUG:09:23:52 (colorbar.py)  DEBUG--  locator: <matplotlib.colorbar._ColorbarAutoLocator object at 0x000000003380A080>\n",
      "DEBUG:09:23:52 (colorbar.py)  DEBUG--  Setting pcolormesh\n",
      "DEBUG:09:23:52 (_base.py)  DEBUG--  update_title_pos\n",
      "DEBUG:09:23:52 (_base.py)  DEBUG--  update_title_pos\n",
      "DEBUG:09:23:53 (_base.py)  DEBUG--  update_title_pos\n",
      "DEBUG:09:23:53 (_base.py)  DEBUG--  update_title_pos\n",
      "DEBUG:09:23:53 (_base.py)  DEBUG--  update_title_pos\n",
      "DEBUG:09:23:54 (colorbar.py)  DEBUG--  locator: <matplotlib.colorbar._ColorbarAutoLocator object at 0x00000000301494A8>\n",
      "DEBUG:09:23:54 (colorbar.py)  DEBUG--  Using auto colorbar locator on colorbar\n",
      "DEBUG:09:23:54 (colorbar.py)  DEBUG--  locator: <matplotlib.colorbar._ColorbarAutoLocator object at 0x00000000301494A8>\n",
      "DEBUG:09:23:54 (colorbar.py)  DEBUG--  Setting pcolormesh\n",
      "DEBUG:09:23:55 (colorbar.py)  DEBUG--  locator: <matplotlib.colorbar._ColorbarAutoLocator object at 0x00000000301A3A58>\n"
     ]
    }
   ],
   "source": [
    "centroids = []\n",
    "for data in collection:\n",
    "    place_data = data.place()\n",
    "    centroids.append(place_data['centroid'])\n",
    "    fig = nc_plot.loc_firing_and_place(place_data)\n",
    "print(centroids)\n",
    "print(angle_between_points(*centroids))"
   ]
  }
 ],
 "metadata": {
  "kernelspec": {
   "display_name": "Python 3",
   "language": "python",
   "name": "python3"
  },
  "language_info": {
   "codemirror_mode": {
    "name": "ipython",
    "version": 3
   },
   "file_extension": ".py",
   "mimetype": "text/x-python",
   "name": "python",
   "nbconvert_exporter": "python",
   "pygments_lexer": "ipython3",
   "version": "3.7.2"
  }
 },
 "nbformat": 4,
 "nbformat_minor": 2
}
