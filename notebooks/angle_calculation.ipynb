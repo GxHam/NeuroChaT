{
 "cells": [
  {
   "cell_type": "code",
   "execution_count": null,
   "metadata": {},
   "outputs": [],
   "source": [
    "import os\n",
    "import sys\n",
    "%matplotlib inline\n",
    "sys.path.insert(1, r'C:\\Users\\smartin5\\Repos\\myNeurochat')\n",
    "%load_ext autoreload\n",
    "%autoreload 2"
   ]
  },
  {
   "cell_type": "code",
   "execution_count": null,
   "metadata": {},
   "outputs": [],
   "source": [
    "from neurochat.nc_control import NeuroChaT"
   ]
  },
  {
   "cell_type": "code",
   "execution_count": null,
   "metadata": {},
   "outputs": [],
   "source": [
    "main_dir = \"C:\\\\Users\\\\smartin5\\\\Neuroscience\\\\Neurochat_egs\"\n",
    "file_name = \"angle_calculation.xlsx\"\n",
    "excel_file_path = os.path.join(main_dir, file_name)\n",
    "neuro_control = NeuroChaT()\n",
    "# print(neuro_control.ndata.spat.time)\n",
    "pdf_name = os.path.join(main_dir, file_name[:5] + \"output\" + \".pdf\")\n",
    "neuro_control.open_pdf(pdf_name)\n",
    "neuro_control.angle_calculation(excel_file_path)\n",
    "neuro_control.close_pdf()"
   ]
  },
  {
   "cell_type": "code",
   "execution_count": null,
   "metadata": {},
   "outputs": [],
   "source": [
    "from neurochat.nc_datacontainer import NDataContainer\n",
    "import neurochat.nc_plot as nc_plot"
   ]
  },
  {
   "cell_type": "code",
   "execution_count": null,
   "metadata": {},
   "outputs": [],
   "source": [
    "home = os.path.expanduser(\"~\")\n",
    "data_dir = os.path.join(\n",
    "    home, \"recording_example\")\n",
    "prepend_data_dir = lambda name : os.path.join(data_dir, name)"
   ]
  },
  {
   "cell_type": "code",
   "execution_count": null,
   "metadata": {},
   "outputs": [],
   "source": [
    "# Setup the locations of interest\n",
    "spike_filenames = [\n",
    "    \"010416b-LS3-50Hz10V5ms.2\",\n",
    "    \"010416b-LS3-50Hz10V5ms.1\",\n",
    "    \"010416b-LS3-50Hz10V5ms.3\"\n",
    "]\n",
    "# position = spike_filenames[0][010416b-LS3-50Hz10V5ms_1.txt\n",
    "spike_absolute_filenames = [prepend_data_dir(name) for name in spike_filenames]\n",
    "position_filename = [prepend_data_dir(\"010416b-LS3-50Hz10V5ms_2.txt\")]\n",
    "units = [2, 3, 2]"
   ]
  },
  {
   "cell_type": "code",
   "execution_count": null,
   "metadata": {},
   "outputs": [],
   "source": [
    "# Set up the data\n",
    "file_types = NDataContainer.EFileType\n",
    "collection = NDataContainer(share_positions=True)\n",
    "collection.add_files(file_types.Spike, spike_absolute_filenames)\n",
    "collection.add_files(file_types.Position, position_filename)\n",
    "collection.set_units(units)\n",
    "print(collection)\n",
    "\n",
    "# Load the data\n",
    "collection.load_all_data()"
   ]
  },
  {
   "cell_type": "code",
   "execution_count": null,
   "metadata": {},
   "outputs": [],
   "source": [
    "collection.list_all_units()"
   ]
  },
  {
   "cell_type": "code",
   "execution_count": null,
   "metadata": {},
   "outputs": [],
   "source": [
    "from neurochat.nc_utils import angle_between_points"
   ]
  },
  {
   "cell_type": "code",
   "execution_count": null,
   "metadata": {},
   "outputs": [],
   "source": [
    "centroids = []\n",
    "for data in collection:\n",
    "    place_data = data.place()\n",
    "    centroids.append(place_data['centroid'])\n",
    "    fig = nc_plot.loc_firing_and_place(place_data)\n",
    "print(centroids)\n",
    "print(angle_between_points(*centroids))"
   ]
  }
 ],
 "metadata": {
  "kernelspec": {
   "display_name": "Python 3",
   "language": "python",
   "name": "python3"
  },
  "language_info": {
   "codemirror_mode": {
    "name": "ipython",
    "version": 3
   },
   "file_extension": ".py",
   "mimetype": "text/x-python",
   "name": "python",
   "nbconvert_exporter": "python",
   "pygments_lexer": "ipython3",
   "version": "3.7.2"
  }
 },
 "nbformat": 4,
 "nbformat_minor": 2
}
